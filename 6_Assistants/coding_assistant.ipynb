{
 "cells": [
  {
   "cell_type": "code",
   "execution_count": 1,
   "metadata": {},
   "outputs": [],
   "source": [
    "from openai import OpenAI\n",
    "import decouple\n",
    "\n",
    "config = decouple.AutoConfig(' ')\n",
    "client = OpenAI(api_key=config(\"OPENAI_API_KEY\"))"
   ]
  },
  {
   "cell_type": "code",
   "execution_count": 2,
   "metadata": {},
   "outputs": [],
   "source": [
    "assistant = client.beta.assistants.create(\n",
    "    name=\"Code Tutor\",\n",
    "    instructions=\"You are a coding assistant that writes short snippets of code and explains how they work.\",\n",
    "    tools=[{\"type\": \"code_interpreter\"}],\n",
    "    model=\"gpt-4-1106-preview\",\n",
    ")"
   ]
  },
  {
   "cell_type": "code",
   "execution_count": 3,
   "metadata": {},
   "outputs": [],
   "source": [
    "thread = client.beta.threads.create()"
   ]
  },
  {
   "cell_type": "code",
   "execution_count": 4,
   "metadata": {},
   "outputs": [],
   "source": [
    "message = client.beta.threads.messages.create(\n",
    "    thread_id=thread.id,\n",
    "    role=\"user\",\n",
    "    content=\"I need to write a binary sort algorithm in Python, can you teach me?\",\n",
    ")"
   ]
  },
  {
   "cell_type": "code",
   "execution_count": 5,
   "metadata": {},
   "outputs": [],
   "source": [
    "run = client.beta.threads.runs.create(\n",
    "    thread_id=thread.id,\n",
    "    assistant_id=assistant.id,\n",
    "    instructions=\"Please address the user as Mr. Brown. Provide both the full code and ample explanation for how it works.\",\n",
    ")"
   ]
  },
  {
   "cell_type": "code",
   "execution_count": 6,
   "metadata": {},
   "outputs": [
    {
     "name": "stdout",
     "output_type": "stream",
     "text": [
      "completed\n",
      "Run(id='run_yiWQ89ysXJyjjbdsRRlW46FF', assistant_id='asst_TcINYwxcRMCnqKZxrQ8CQA20', cancelled_at=None, completed_at=1700627423, created_at=1700627375, expires_at=None, failed_at=None, file_ids=[], instructions='Please address the user as Mr. Brown. Provide both the full code and ample explanation for how it works.', last_error=None, metadata={}, model='gpt-4-1106-preview', object='thread.run', required_action=None, started_at=1700627375, status='completed', thread_id='thread_TISRFFaWQf9vMXZ9H0EajM44', tools=[ToolAssistantToolsCode(type='code_interpreter')])\n"
     ]
    }
   ],
   "source": [
    "run = client.beta.threads.runs.retrieve(thread_id=thread.id, run_id=run.id)\n",
    "print(run.status)\n",
    "print(run)"
   ]
  },
  {
   "cell_type": "code",
   "execution_count": 7,
   "metadata": {},
   "outputs": [
    {
     "name": "stdout",
     "output_type": "stream",
     "text": [
      "\n",
      "1:\n",
      "I need to write a binary sort algorithm in Python, can you teach me?\n",
      "\n",
      "2:\n",
      "Certainly, Mr. Brown! A binary sort is often referred to as a binary insertion sort. It's a variation of the insertion sort that uses binary search to reduce the number of comparisons needed to find the correct location to insert the element.\n",
      "\n",
      "Here's the step-by-step explanation on how the algorithm works:\n",
      "\n",
      "1. Start from the second element of the array (the first element is trivially sorted).\n",
      "2. For each element, use a binary search to determine the insertion point within the sorted portion of the array (initially, this is the portion of the array to the left of the current element).\n",
      "3. Once the insertion point is found, shift all elements from the insertion point rightwards by one position to make space for the new element.\n",
      "4. Insert the current element into the found location.\n",
      "5. Repeat steps 2-4 for all elements in the array.\n",
      "\n",
      "Let's write the Python code to implement the binary insertion sort algorithm. Here's the full code with detailed comments:\n",
      "\n",
      "```python\n",
      "def binary_search(arr, val, start, end):\n",
      "    \"\"\"Find the index where 'val' should be inserted in 'arr[start:end]'.\"\"\"\n",
      "    while start < end:\n",
      "        mid = (start + end) // 2\n",
      "        if arr[mid] < val:\n",
      "            start = mid + 1\n",
      "        else:\n",
      "            end = mid\n",
      "    return start\n",
      "\n",
      "def binary_insertion_sort(arr):\n",
      "    \"\"\"Perform binary insertion sort on the array 'arr'.\"\"\"\n",
      "    for i in range(1, len(arr)):\n",
      "        key = arr[i]\n",
      "        # Find the insertion point using binary search\n",
      "        insertion_point = binary_search(arr, key, 0, i)\n",
      "\n",
      "        # Shift elements from the insertion point rightward\n",
      "        # to create space for the key to be inserted\n",
      "        for j in range(i, insertion_point, -1):\n",
      "            arr[j] = arr[j - 1]\n",
      "        \n",
      "        # Insert the key at the insertion point\n",
      "        arr[insertion_point] = key\n",
      "\n",
      "    return arr\n",
      "\n",
      "# Example usage:\n",
      "array = [37, 23, 0, 17, 12, 72, 31, 46, 100, 88, 54]\n",
      "sorted_array = binary_insertion_sort(array)\n",
      "print(\"Sorted array:\", sorted_array)\n",
      "```\n",
      "\n",
      "Now, let's execute this code to see the binary insertion sort in action.\n",
      "\n",
      "3:\n",
      "The binary insertion sort algorithm has sorted the example array, and the result is as follows:\n",
      "\n",
      "`[0, 12, 17, 23, 31, 37, 46, 54, 72, 88, 100]`\n",
      "\n",
      "This result confirms that the algorithm is working correctly. Each number is inserted into its correct position based on the binary search within the already sorted portion of the array.\n",
      "\n",
      "Would you like to know more about any specific part of the binary insertion sort algorithm, Mr. Brown?\n"
     ]
    }
   ],
   "source": [
    "messages = client.beta.threads.messages.list(thread_id=thread.id)\n",
    "\n",
    "for index, message in enumerate(messages.data[::-1]):\n",
    "    print(f\"\\n{index+1}:\\n{message.content[0].text.value}\")"
   ]
  },
  {
   "cell_type": "code",
   "execution_count": 11,
   "metadata": {},
   "outputs": [],
   "source": [
    "message = client.beta.threads.messages.create(\n",
    "    thread_id=thread.id,\n",
    "    role=\"user\",\n",
    "    content=\"Please write a python function to reverse strings. Then run this function for me passing in the sentence '!dlrow eht revo ekat ot gniog era slerriuqS'.\",\n",
    ")"
   ]
  },
  {
   "cell_type": "code",
   "execution_count": 12,
   "metadata": {},
   "outputs": [],
   "source": [
    "run = client.beta.threads.runs.create(\n",
    "    thread_id=thread.id,\n",
    "    assistant_id=assistant.id,\n",
    "    instructions=\"Please address the user as Mr. Brown. Provide both the full code and ample explanation for how it works.\",\n",
    ")"
   ]
  },
  {
   "cell_type": "code",
   "execution_count": 14,
   "metadata": {},
   "outputs": [
    {
     "name": "stdout",
     "output_type": "stream",
     "text": [
      "completed\n"
     ]
    }
   ],
   "source": [
    "run = client.beta.threads.runs.retrieve(thread_id=thread.id, run_id=run.id)\n",
    "print(run.status)"
   ]
  },
  {
   "cell_type": "code",
   "execution_count": 15,
   "metadata": {},
   "outputs": [
    {
     "name": "stdout",
     "output_type": "stream",
     "text": [
      "\n",
      "1:\n",
      "I need to write a binary sort algorithm in Python, can you teach me?\n",
      "\n",
      "2:\n",
      "Certainly, Mr. Brown! A binary sort is often referred to as a binary insertion sort. It's a variation of the insertion sort that uses binary search to reduce the number of comparisons needed to find the correct location to insert the element.\n",
      "\n",
      "Here's the step-by-step explanation on how the algorithm works:\n",
      "\n",
      "1. Start from the second element of the array (the first element is trivially sorted).\n",
      "2. For each element, use a binary search to determine the insertion point within the sorted portion of the array (initially, this is the portion of the array to the left of the current element).\n",
      "3. Once the insertion point is found, shift all elements from the insertion point rightwards by one position to make space for the new element.\n",
      "4. Insert the current element into the found location.\n",
      "5. Repeat steps 2-4 for all elements in the array.\n",
      "\n",
      "Let's write the Python code to implement the binary insertion sort algorithm. Here's the full code with detailed comments:\n",
      "\n",
      "```python\n",
      "def binary_search(arr, val, start, end):\n",
      "    \"\"\"Find the index where 'val' should be inserted in 'arr[start:end]'.\"\"\"\n",
      "    while start < end:\n",
      "        mid = (start + end) // 2\n",
      "        if arr[mid] < val:\n",
      "            start = mid + 1\n",
      "        else:\n",
      "            end = mid\n",
      "    return start\n",
      "\n",
      "def binary_insertion_sort(arr):\n",
      "    \"\"\"Perform binary insertion sort on the array 'arr'.\"\"\"\n",
      "    for i in range(1, len(arr)):\n",
      "        key = arr[i]\n",
      "        # Find the insertion point using binary search\n",
      "        insertion_point = binary_search(arr, key, 0, i)\n",
      "\n",
      "        # Shift elements from the insertion point rightward\n",
      "        # to create space for the key to be inserted\n",
      "        for j in range(i, insertion_point, -1):\n",
      "            arr[j] = arr[j - 1]\n",
      "        \n",
      "        # Insert the key at the insertion point\n",
      "        arr[insertion_point] = key\n",
      "\n",
      "    return arr\n",
      "\n",
      "# Example usage:\n",
      "array = [37, 23, 0, 17, 12, 72, 31, 46, 100, 88, 54]\n",
      "sorted_array = binary_insertion_sort(array)\n",
      "print(\"Sorted array:\", sorted_array)\n",
      "```\n",
      "\n",
      "Now, let's execute this code to see the binary insertion sort in action.\n",
      "\n",
      "3:\n",
      "The binary insertion sort algorithm has sorted the example array, and the result is as follows:\n",
      "\n",
      "`[0, 12, 17, 23, 31, 37, 46, 54, 72, 88, 100]`\n",
      "\n",
      "This result confirms that the algorithm is working correctly. Each number is inserted into its correct position based on the binary search within the already sorted portion of the array.\n",
      "\n",
      "Would you like to know more about any specific part of the binary insertion sort algorithm, Mr. Brown?\n",
      "\n",
      "4:\n",
      "Please write a python function to reverse strings. Then run this function for me passing in the sentence '!dlrow eht revo ekat ot gniog era slerriuqS'.\n",
      "\n",
      "5:\n",
      "Please write a python function to reverse strings. Then run this function for me passing in the sentence '!dlrow eht revo ekat ot gniog era slerriuqS'.\n",
      "\n",
      "6:\n",
      "The reversed string of `!dlrow eht revo ekat ot gniog era slerriuqS` is `'Squirrels are going to take over the world!'`.\n",
      "\n",
      "The `reverse_string` function I created for you, Mr. Brown, effectively reverses any string passed to it. If you need to reverse another string or have any more questions, feel free to ask!\n"
     ]
    }
   ],
   "source": [
    "messages = client.beta.threads.messages.list(thread_id=thread.id)\n",
    "for index, message in enumerate(messages.data[::-1]):\n",
    "    print(f\"\\n{index+1}:\\n{message.content[0].text.value}\")"
   ]
  }
 ],
 "metadata": {
  "kernelspec": {
   "display_name": "Python 3",
   "language": "python",
   "name": "python3"
  },
  "language_info": {
   "codemirror_mode": {
    "name": "ipython",
    "version": 3
   },
   "file_extension": ".py",
   "mimetype": "text/x-python",
   "name": "python",
   "nbconvert_exporter": "python",
   "pygments_lexer": "ipython3",
   "version": "3.10.5"
  }
 },
 "nbformat": 4,
 "nbformat_minor": 2
}
