{
 "cells": [
  {
   "cell_type": "code",
   "execution_count": 1,
   "metadata": {},
   "outputs": [],
   "source": [
    "from openai import OpenAI\n",
    "import decouple\n",
    "config = decouple.AutoConfig(' ')\n",
    "\n",
    "client = OpenAI(api_key=config(\"OPENAI_API_KEY\"))"
   ]
  },
  {
   "cell_type": "code",
   "execution_count": 2,
   "metadata": {},
   "outputs": [],
   "source": [
    "dino_incubator_faq_file = client.files.create(\n",
    "    file=open(\"FAQ_wifi_dinosaur_egg_incubator.txt\", \"rb\"),\n",
    "    purpose='assistants'\n",
    ")"
   ]
  },
  {
   "cell_type": "code",
   "execution_count": 3,
   "metadata": {},
   "outputs": [],
   "source": [
    "assistant = client.beta.assistants.create(\n",
    "    name=\"Customer service assistant\",\n",
    "    instructions=\"You are a customer support chatbot. Use your knowledge base to best respond to customer queries.\",\n",
    "    tools=[{\"type\": \"retrieval\"}],\n",
    "    model=\"gpt-4-1106-preview\",\n",
    "    file_ids=[dino_incubator_faq_file.id],\n",
    ")"
   ]
  },
  {
   "cell_type": "code",
   "execution_count": 4,
   "metadata": {},
   "outputs": [],
   "source": [
    "thread = client.beta.threads.create()"
   ]
  },
  {
   "cell_type": "code",
   "execution_count": 5,
   "metadata": {},
   "outputs": [],
   "source": [
    "message = client.beta.threads.messages.create(\n",
    "    thread_id=thread.id,\n",
    "    role=\"user\",\n",
    "    content=\"How do I set the correct temperature for my dinosaur eggs?\",\n",
    ")"
   ]
  },
  {
   "cell_type": "code",
   "execution_count": 6,
   "metadata": {},
   "outputs": [],
   "source": [
    "run = client.beta.threads.runs.create(\n",
    "    thread_id=thread.id,\n",
    "    assistant_id=assistant.id,\n",
    "    instructions=\"You are customer support, always be polite and understanding. Answer the questions using your knowledge base.\",\n",
    ")"
   ]
  },
  {
   "cell_type": "code",
   "execution_count": 8,
   "metadata": {},
   "outputs": [
    {
     "name": "stdout",
     "output_type": "stream",
     "text": [
      "completed\n"
     ]
    }
   ],
   "source": [
    "run = client.beta.threads.runs.retrieve(thread_id=thread.id, run_id=run.id)\n",
    "print(run.status)"
   ]
  },
  {
   "cell_type": "code",
   "execution_count": 9,
   "metadata": {},
   "outputs": [
    {
     "name": "stdout",
     "output_type": "stream",
     "text": [
      "\n",
      "1:\n",
      "How do I set the correct temperature for my dinosaur eggs?\n",
      "\n",
      "2:\n",
      "To set the correct temperature for your dinosaur eggs, specifically velociraptor eggs in this case, you should do the following:\n",
      "\n",
      "1. Power on your Wifi dinosaur egg incubator.\n",
      "2. Use the touchscreen panel to navigate to the 'Species Settings' menu.\n",
      "3. Select 'Velociraptor' from the pre-programmed species list.\n",
      "\n",
      "The incubator will then automatically adjust to the ideal temperature and humidity levels for your velociraptor eggs【7†source】. If you have eggs of a different dinosaur species, you would follow a similar process, selecting the appropriate species from the menu to set the correct conditions for incubation.\n"
     ]
    }
   ],
   "source": [
    "messages = client.beta.threads.messages.list(thread_id=thread.id)\n",
    "\n",
    "for index, message in enumerate(messages.data[::-1]):\n",
    "    print(f\"\\n{index+1}:\\n{message.content[0].text.value}\")"
   ]
  },
  {
   "cell_type": "code",
   "execution_count": 10,
   "metadata": {},
   "outputs": [
    {
     "name": "stdout",
     "output_type": "stream",
     "text": [
      "SyncCursorPage[RunStep](data=[RunStep(id='step_ZtjkTzVJzfcCTlbYkBeTFrdQ', assistant_id='asst_tSLPn8dgt6pFmjL4jFJJiZtf', cancelled_at=None, completed_at=1700629114, created_at=1700629108, expired_at=None, failed_at=None, last_error=None, metadata=None, object='thread.run.step', run_id='run_PTbxCaHf9XLXvcK5kFkUNDKb', status='completed', step_details=MessageCreationStepDetails(message_creation=MessageCreation(message_id='msg_yatvGpezCs3XzrSJulqRMXeR'), type='message_creation'), thread_id='thread_Yw9AKdgjsQ5WjEKnXAL5NhBC', type='message_creation', expires_at=None), RunStep(id='step_bbfaNruNeiEJTbWUvwdbesKL', assistant_id='asst_tSLPn8dgt6pFmjL4jFJJiZtf', cancelled_at=None, completed_at=1700629108, created_at=1700629105, expired_at=None, failed_at=None, last_error=None, metadata=None, object='thread.run.step', run_id='run_PTbxCaHf9XLXvcK5kFkUNDKb', status='completed', step_details=ToolCallsStepDetails(tool_calls=[RetrievalToolCall(id='call_KUnXqzDP47t078PsyviJtt5t', retrieval={}, type='retrieval')], type='tool_calls'), thread_id='thread_Yw9AKdgjsQ5WjEKnXAL5NhBC', type='tool_calls', expires_at=None)], object='list', first_id='step_ZtjkTzVJzfcCTlbYkBeTFrdQ', last_id='step_bbfaNruNeiEJTbWUvwdbesKL', has_more=False)\n"
     ]
    }
   ],
   "source": [
    "run_steps = client.beta.threads.runs.steps.list(thread_id=thread.id, run_id=run.id)\n",
    "print(run_steps)"
   ]
  },
  {
   "cell_type": "code",
   "execution_count": null,
   "metadata": {},
   "outputs": [],
   "source": []
  },
  {
   "cell_type": "code",
   "execution_count": null,
   "metadata": {},
   "outputs": [],
   "source": []
  },
  {
   "cell_type": "code",
   "execution_count": null,
   "metadata": {},
   "outputs": [],
   "source": []
  },
  {
   "cell_type": "code",
   "execution_count": null,
   "metadata": {},
   "outputs": [],
   "source": []
  },
  {
   "cell_type": "code",
   "execution_count": null,
   "metadata": {},
   "outputs": [],
   "source": []
  },
  {
   "cell_type": "code",
   "execution_count": null,
   "metadata": {},
   "outputs": [],
   "source": []
  },
  {
   "cell_type": "code",
   "execution_count": null,
   "metadata": {},
   "outputs": [],
   "source": []
  }
 ],
 "metadata": {
  "kernelspec": {
   "display_name": "Python 3",
   "language": "python",
   "name": "python3"
  },
  "language_info": {
   "codemirror_mode": {
    "name": "ipython",
    "version": 3
   },
   "file_extension": ".py",
   "mimetype": "text/x-python",
   "name": "python",
   "nbconvert_exporter": "python",
   "pygments_lexer": "ipython3",
   "version": "3.10.5"
  }
 },
 "nbformat": 4,
 "nbformat_minor": 2
}
